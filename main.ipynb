{
 "cells": [
  {
   "cell_type": "markdown",
   "metadata": {},
   "source": [
    " **install textblob**"
   ]
  },
  {
   "cell_type": "code",
   "execution_count": 6,
   "metadata": {},
   "outputs": [
    {
     "name": "stdout",
     "output_type": "stream",
     "text": [
      "Defaulting to user installation because normal site-packages is not writeable\n",
      "Requirement already satisfied: textblob in /home/rudda/.local/lib/python3.6/site-packages (0.15.3)\n",
      "Requirement already satisfied: nltk>=3.1 in /home/rudda/.local/lib/python3.6/site-packages (from textblob) (3.5)\n",
      "Requirement already satisfied: joblib in /home/rudda/.local/lib/python3.6/site-packages (from nltk>=3.1->textblob) (0.17.0)\n",
      "Requirement already satisfied: tqdm in /home/rudda/.local/lib/python3.6/site-packages (from nltk>=3.1->textblob) (4.51.0)\n",
      "Requirement already satisfied: click in /home/rudda/.local/lib/python3.6/site-packages (from nltk>=3.1->textblob) (7.1.2)\n",
      "Requirement already satisfied: regex in /home/rudda/.local/lib/python3.6/site-packages (from nltk>=3.1->textblob) (2020.10.28)\n",
      "Defaulting to user installation because normal site-packages is not writeable\n",
      "Requirement already satisfied: googletrans in /home/rudda/.local/lib/python3.6/site-packages (2.3.0)\n",
      "Requirement already satisfied: requests in /home/rudda/.local/lib/python3.6/site-packages (from googletrans) (2.24.0)\n",
      "Requirement already satisfied: chardet<4,>=3.0.2 in /home/rudda/.local/lib/python3.6/site-packages (from requests->googletrans) (3.0.4)\n",
      "Requirement already satisfied: urllib3!=1.25.0,!=1.25.1,<1.26,>=1.21.1 in /home/rudda/.local/lib/python3.6/site-packages (from requests->googletrans) (1.25.11)\n",
      "Requirement already satisfied: idna<3,>=2.5 in /home/rudda/.local/lib/python3.6/site-packages (from requests->googletrans) (2.10)\n",
      "Requirement already satisfied: certifi>=2017.4.17 in /home/rudda/.local/lib/python3.6/site-packages (from requests->googletrans) (2020.6.20)\n",
      "Defaulting to user installation because normal site-packages is not writeable\n",
      "Collecting google-cloud-translate==2.0.1\n",
      "  Downloading google_cloud_translate-2.0.1-py2.py3-none-any.whl (90 kB)\n",
      "\u001b[K     |################################| 90 kB 496 kB/s eta 0:00:011\n",
      "\u001b[?25hCollecting google-cloud-core<2.0dev,>=1.1.0\n",
      "  Downloading google_cloud_core-1.4.3-py2.py3-none-any.whl (27 kB)\n",
      "Collecting google-api-core[grpc]<2.0.0dev,>=1.15.0\n",
      "  Downloading google_api_core-1.23.0-py2.py3-none-any.whl (91 kB)\n",
      "\u001b[K     |################################| 91 kB 1.0 MB/s eta 0:00:011\n",
      "\u001b[?25hCollecting protobuf>=3.12.0\n",
      "  Downloading protobuf-3.14.0-cp36-cp36m-manylinux1_x86_64.whl (1.0 MB)\n",
      "\u001b[K     |################################| 1.0 MB 4.1 MB/s eta 0:00:01\n",
      "\u001b[?25hRequirement already satisfied: six>=1.13.0 in /home/rudda/.local/lib/python3.6/site-packages (from google-api-core[grpc]<2.0.0dev,>=1.15.0->google-cloud-translate==2.0.1) (1.15.0)\n",
      "Requirement already satisfied: pytz in /usr/lib/python3/dist-packages (from google-api-core[grpc]<2.0.0dev,>=1.15.0->google-cloud-translate==2.0.1) (2018.3)\n",
      "Collecting google-auth<2.0dev,>=1.21.1\n",
      "  Downloading google_auth-1.23.0-py2.py3-none-any.whl (114 kB)\n",
      "\u001b[K     |################################| 114 kB 5.4 MB/s eta 0:00:01\n",
      "\u001b[?25hCollecting googleapis-common-protos<2.0dev,>=1.6.0\n",
      "  Downloading googleapis_common_protos-1.52.0-py2.py3-none-any.whl (100 kB)\n",
      "\u001b[K     |################################| 100 kB 1.1 MB/s ta 0:00:011\n",
      "\u001b[?25hRequirement already satisfied: setuptools>=34.0.0 in /home/rudda/.local/lib/python3.6/site-packages (from google-api-core[grpc]<2.0.0dev,>=1.15.0->google-cloud-translate==2.0.1) (50.3.2)\n",
      "Requirement already satisfied: requests<3.0.0dev,>=2.18.0 in /home/rudda/.local/lib/python3.6/site-packages (from google-api-core[grpc]<2.0.0dev,>=1.15.0->google-cloud-translate==2.0.1) (2.24.0)\n",
      "Collecting grpcio<2.0dev,>=1.29.0; extra == \"grpc\"\n",
      "  Downloading grpcio-1.33.2-cp36-cp36m-manylinux2014_x86_64.whl (3.8 MB)\n",
      "\u001b[K     |################################| 3.8 MB 5.6 MB/s eta 0:00:01\n",
      "\u001b[?25hCollecting cachetools<5.0,>=2.0.0\n",
      "  Downloading cachetools-4.1.1-py3-none-any.whl (10 kB)\n",
      "Collecting rsa<5,>=3.1.4; python_version >= \"3.5\"\n",
      "  Downloading rsa-4.6-py3-none-any.whl (47 kB)\n",
      "\u001b[K     |################################| 47 kB 620 kB/s  eta 0:00:01\n",
      "\u001b[?25hCollecting pyasn1-modules>=0.2.1\n",
      "  Downloading pyasn1_modules-0.2.8-py2.py3-none-any.whl (155 kB)\n",
      "\u001b[K     |################################| 155 kB 8.2 MB/s eta 0:00:01\n",
      "\u001b[?25hRequirement already satisfied: idna<3,>=2.5 in /home/rudda/.local/lib/python3.6/site-packages (from requests<3.0.0dev,>=2.18.0->google-api-core[grpc]<2.0.0dev,>=1.15.0->google-cloud-translate==2.0.1) (2.10)\n",
      "Requirement already satisfied: chardet<4,>=3.0.2 in /home/rudda/.local/lib/python3.6/site-packages (from requests<3.0.0dev,>=2.18.0->google-api-core[grpc]<2.0.0dev,>=1.15.0->google-cloud-translate==2.0.1) (3.0.4)\n",
      "Requirement already satisfied: urllib3!=1.25.0,!=1.25.1,<1.26,>=1.21.1 in /home/rudda/.local/lib/python3.6/site-packages (from requests<3.0.0dev,>=2.18.0->google-api-core[grpc]<2.0.0dev,>=1.15.0->google-cloud-translate==2.0.1) (1.25.11)\n",
      "Requirement already satisfied: certifi>=2017.4.17 in /home/rudda/.local/lib/python3.6/site-packages (from requests<3.0.0dev,>=2.18.0->google-api-core[grpc]<2.0.0dev,>=1.15.0->google-cloud-translate==2.0.1) (2020.6.20)\n",
      "Collecting pyasn1>=0.1.3\n",
      "  Downloading pyasn1-0.4.8-py2.py3-none-any.whl (77 kB)\n",
      "\u001b[K     |################################| 77 kB 698 kB/s eta 0:00:011\n",
      "\u001b[?25hInstalling collected packages: protobuf, cachetools, pyasn1, rsa, pyasn1-modules, google-auth, googleapis-common-protos, grpcio, google-api-core, google-cloud-core, google-cloud-translate\n",
      "Successfully installed cachetools-4.1.1 google-api-core-1.23.0 google-auth-1.23.0 google-cloud-core-1.4.3 google-cloud-translate-2.0.1 googleapis-common-protos-1.52.0 grpcio-1.33.2 protobuf-3.14.0 pyasn1-0.4.8 pyasn1-modules-0.2.8 rsa-4.6\n"
     ]
    }
   ],
   "source": [
    "!pip3 install textblob\n",
    "!pip3 install googletrans\n",
    "!pip install google-cloud-translate==2.0.1"
   ]
  },
  {
   "cell_type": "markdown",
   "metadata": {},
   "source": [
    "**imports**"
   ]
  },
  {
   "cell_type": "code",
   "execution_count": 2,
   "metadata": {},
   "outputs": [],
   "source": [
    "from textblob import TextBlob\n",
    "from google.cloud import Translator\n",
    "import json \n",
    "import re"
   ]
  },
  {
   "cell_type": "markdown",
   "metadata": {},
   "source": [
    "**tranlate file and salve in other file**"
   ]
  },
  {
   "cell_type": "code",
   "execution_count": 5,
   "metadata": {},
   "outputs": [
    {
     "name": "stdout",
     "output_type": "stream",
     "text": [
      "data translate finish!!\n"
     ]
    }
   ],
   "source": [
    "#valid v6 and v7\n",
    "dataset = open('data/dataset-v2.dat', 'r', encoding='utf-8')\n",
    "data_rudda = open('data/data-split/dataset-full-2.json', 'a', encoding='utf-8')\n",
    "data_wagner = open('data/data-split/dataset-50k-75k-wagner.json', 'a', encoding='utf-8')\n",
    "data_rafael = open('data/data-split/dataset-75k-100k-rafael.json', 'a', encoding='utf-8')\n",
    "\n",
    "#dataset = open('data/dataset-us-v6.json', 'r', encoding='utf-8')\n",
    "#data_us = open('data/dataset-us-v7.json', 'a', encoding='utf-8')\n",
    "data_ex = open('data/data-split/dataset-us-except-v1.json', 'a', encoding='utf-8')\n",
    "i =0;\n",
    "\n",
    "emoji_pattern = re.compile(\"[\"\n",
    "        u\"\\U0001F600-\\U0001F64F\"  # emoticons\n",
    "        u\"\\U0001F300-\\U0001F5FF\"  # symbols & pictographs\n",
    "        u\"\\U0001F680-\\U0001F6FF\"  # transport & map symbols\n",
    "        u\"\\U0001F1E0-\\U0001F1FF\"  # flags (iOS)\n",
    "                           \"]+\", flags=re.UNICODE)\n",
    "\n",
    "latest_review_id = \"277107720\"\n",
    "translate = False\n",
    "aux_json = \"\"\n",
    "\n",
    "to_translate = {\n",
    "    'title' :'',\n",
    "    'reviewBody' :'',\n",
    "    'reviewId' : ''\n",
    "}\n",
    "\n",
    "for line in dataset:\n",
    "       \n",
    "    try:\n",
    "        translator = Translator()\n",
    "        i  = i + 1;\n",
    "        # parse to json format\n",
    "        data_json = json.loads(str(line))\n",
    "        #print(str(data_json['reviewBody']))\n",
    "        #aux_json = data_json\n",
    "        # remove emojis\n",
    "        #review_str = emoji_pattern.sub(r'', str(data_json['reviewBody'])) \n",
    "        #title\n",
    "        #title_str = emoji_pattern.sub(r'', str(data_json['title'])) \n",
    "       # if( translate == True ):\n",
    "        #print('Im translating',review_str, title_str)\n",
    "            #translate\n",
    "        #review_str = translator.translate( review_str, dest='en') \n",
    "       # title_str = translator.translate( str(title_str), dest='en')\n",
    "            #assigne\n",
    "        #to_translate['reviewBody'] = review_str\n",
    "       # to_translate['title'] = title_str\n",
    "       # to_translate['reviewId'] = data_json['reviewId']\n",
    "        #write file\n",
    "        #data_us.write(json.dumps(data_json) + \"\\n\")\n",
    "            # logs\n",
    "        #if(i <= 50000):\n",
    "        data_rudda.write(json.dumps(data_json) + \",\\n\")\n",
    "        #if( i > 50000 and i <= 75000):\n",
    "       #     data_wagner.write(json.dumps(to_translate) + \"\\n\")\n",
    "        #if( i> 75000):\n",
    "        #    data_rafael.write(json.dumps(to_translate) + \"\\n\")\n",
    "            \n",
    "        \n",
    "        #if( data_json['reviewId'] == latest_review_id and not bool(translate)):\n",
    "           # translate = True;\n",
    "           # print('hey there!!')\n",
    "        \n",
    "       # if(not bool(translate) ):\n",
    "           # print('locking for ..', latest_review_id, data_json['reviewId'])\n",
    "            \n",
    "    except:\n",
    "     #   print('except')\n",
    "        print(str(line) + '\\n')\n",
    "      #  data_ex.write(json.dumps(aux_json) + \"\\n\")\n",
    "       \n",
    "    \n",
    "#data_us.close()\n",
    "data_rudda.close()\n",
    "#data_wagner.close()\n",
    "#data_rafael.close()\n",
    "dataset.close()\n",
    "print('data translate finish!!')"
   ]
  },
  {
   "cell_type": "code",
   "execution_count": null,
   "metadata": {},
   "outputs": [],
   "source": []
  },
  {
   "cell_type": "code",
   "execution_count": null,
   "metadata": {},
   "outputs": [],
   "source": []
  }
 ],
 "metadata": {
  "kernelspec": {
   "display_name": "Python 3",
   "language": "python",
   "name": "python3"
  },
  "language_info": {
   "codemirror_mode": {
    "name": "ipython",
    "version": 3
   },
   "file_extension": ".py",
   "mimetype": "text/x-python",
   "name": "python",
   "nbconvert_exporter": "python",
   "pygments_lexer": "ipython3",
   "version": "3.6.9"
  }
 },
 "nbformat": 4,
 "nbformat_minor": 4
}
